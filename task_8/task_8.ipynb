{
  "nbformat": 4,
  "nbformat_minor": 0,
  "metadata": {
    "interpreter": {
      "hash": "31f2aee4e71d21fbe5cf8b01ff0e069b9275f58929596ceb00d14d90e3e16cd6"
    },
    "kernelspec": {
      "display_name": "Python 3.8.2 64-bit",
      "language": "python",
      "name": "python3"
    },
    "language_info": {
      "codemirror_mode": {
        "name": "ipython",
        "version": 3
      },
      "file_extension": ".py",
      "mimetype": "text/x-python",
      "name": "python",
      "nbconvert_exporter": "python",
      "pygments_lexer": "ipython3",
      "version": "3.8.2"
    },
    "orig_nbformat": 4,
    "colab": {
      "name": "task_8.ipynb",
      "provenance": [],
      "collapsed_sections": []
    }
  },
  "cells": [
    {
      "cell_type": "code",
      "metadata": {
        "colab": {
          "base_uri": "https://localhost:8080/"
        },
        "id": "C1J8ShI5hJig",
        "outputId": "829e0b18-7303-41ac-c4a9-086324c18f6a"
      },
      "source": [
        "# I. Выберите два алгоритма (интересных вам и не рассмотренных в курсе) из\n",
        "# вышеперечисленных разделов книги.\n",
        "# II. Проанализируйте выбранные алгоритмы с точки зрения временной и пространственной сложности,\n",
        "# используемых методов проектирования и т.д. Реализуйте алгоритмы и проведите несколько экспериментов.\n",
        "# Проанализируйте результаты\n",
        "\n",
        "!pip install igraph cairocffi"
      ],
      "execution_count": 3,
      "outputs": [
        {
          "output_type": "stream",
          "name": "stdout",
          "text": [
            "Requirement already satisfied: igraph in /usr/local/lib/python3.7/dist-packages (0.9.8)\n",
            "Requirement already satisfied: cairocffi in /usr/local/lib/python3.7/dist-packages (1.3.0)\n",
            "Requirement already satisfied: texttable>=1.6.2 in /usr/local/lib/python3.7/dist-packages (from igraph) (1.6.4)\n",
            "Requirement already satisfied: cffi>=1.1.0 in /usr/local/lib/python3.7/dist-packages (from cairocffi) (1.15.0)\n",
            "Requirement already satisfied: pycparser in /usr/local/lib/python3.7/dist-packages (from cffi>=1.1.0->cairocffi) (2.21)\n"
          ]
        }
      ]
    },
    {
      "cell_type": "code",
      "metadata": {
        "colab": {
          "base_uri": "https://localhost:8080/"
        },
        "id": "oKRwsr6thJii",
        "outputId": "c6fce829-004f-4d15-f06f-503e25430550"
      },
      "source": [
        "from collections import namedtuple\n",
        "import igraph as ig\n",
        "\n",
        "Edge = namedtuple('Edge', 'weight start end')\n",
        "\n",
        "\n",
        "class DisjointSet:\n",
        "    def __init__(self, key):\n",
        "        self.key = key\n",
        "        self.parent = self\n",
        "        self.rank = 0\n",
        "\n",
        "    def find_root(self):\n",
        "        if self.parent is not self:\n",
        "            self.parent = self.parent.find_root()\n",
        "        return self.parent\n",
        "\n",
        "    def union(self, other):\n",
        "        x = self.find_root()\n",
        "        y = other.find_root()\n",
        "        if x is y:  # They're in the same set already\n",
        "            return\n",
        "        if x.rank < y.rank:\n",
        "            x.parent = y\n",
        "        elif x.rank > y.rank:\n",
        "            y.parent = x\n",
        "        else:\n",
        "            y.parent = x\n",
        "            x.rank += 1\n",
        "\n",
        "\n",
        "def kruskal(nodes, edges):\n",
        "    \"\"\"Given a graph, yield the edges in its minimum spanning tree.\"\"\"\n",
        "    forest = dict((n, DisjointSet(n)) for n in nodes)\n",
        "    for edge in sorted(edges):\n",
        "        x = forest[edge.start].find_root()\n",
        "        y = forest[edge.end].find_root()\n",
        "        if x is not y:\n",
        "            yield edge\n",
        "            x.union(y)\n",
        "\n",
        "\n",
        "test_nodes = 'ABCDEFG'\n",
        "test_edges = '''\n",
        "7 A B\n",
        "5 A D\n",
        "8 B C\n",
        "9 B D\n",
        "7 B E\n",
        "5 C E\n",
        "15 D E\n",
        "6 D F\n",
        "8 E F\n",
        "9 E G\n",
        "11 F G\n",
        "'''.strip()\n",
        "\n",
        "\n",
        "def parse_edge_data(s):\n",
        "    for line in s.split('\\n'):\n",
        "        weight, start, end = line.split()\n",
        "        yield Edge(int(weight), start, end)\n",
        "\n",
        "\n",
        "def main():\n",
        "    for edge in kruskal(test_nodes, parse_edge_data(test_edges)):\n",
        "        print(edge)\n",
        "\n",
        "\n",
        "main()"
      ],
      "execution_count": 73,
      "outputs": [
        {
          "output_type": "stream",
          "name": "stdout",
          "text": [
            "Edge(weight=5, start='A', end='D')\n",
            "Edge(weight=5, start='C', end='E')\n",
            "Edge(weight=6, start='D', end='F')\n",
            "Edge(weight=7, start='A', end='B')\n",
            "Edge(weight=7, start='B', end='E')\n",
            "Edge(weight=9, start='E', end='G')\n"
          ]
        }
      ]
    },
    {
      "cell_type": "code",
      "metadata": {
        "id": "_Az62zJjhJii"
      },
      "source": [
        "#Bapartite matching "
      ],
      "execution_count": 5,
      "outputs": []
    },
    {
      "cell_type": "code",
      "metadata": {
        "id": "l4Zjv-qahJij"
      },
      "source": [
        "class Edge:\n",
        "    def __init__(self) -> None:\n",
        "        self.defaultEdgeCapacity = 1\n",
        "        self.fromVertex = None\n",
        "        self.toVertex = None\n",
        "        self.capacity = None\n",
        "        self.flow = None\n",
        "    def get_end_node(self, vertex):\n",
        "        if vertex==self.fromVertex:\n",
        "            return self.toVertex\n",
        "        return self.fromVertex\n",
        "    def get_residual_capacity_to(self, vertex):\n",
        "        if vertex== self.fromVertex:\n",
        "            return self.flow\n",
        "        return (self.capacity-self.flow)\n",
        "\n",
        "    def increase_flow_to(self, vertex, changeInFlow):\n",
        "        if vertex==self.fromVertex :\n",
        "            self.flow = self.flow-changeInFlow\n",
        "        else:\n",
        "            self.flow = self.flow+changeInFlow\n",
        "\t\t\n",
        "    \n"
      ],
      "execution_count": 6,
      "outputs": []
    },
    {
      "cell_type": "code",
      "metadata": {
        "colab": {
          "base_uri": "https://localhost:8080/"
        },
        "id": "yIq8aq7RhJij",
        "outputId": "84e3efba-68c0-4585-86ee-e6fe14ca0134"
      },
      "source": [
        "\n",
        "from collections import defaultdict\n",
        " \n",
        "class Graph:\n",
        " \n",
        "    def __init__(self, graph):\n",
        "        self.graph = graph\n",
        "        self. ROW = len(graph)\n",
        " \n",
        "    '''Returns true if there is a path from source 's' to sink 't' in\n",
        "    residual graph. Also fills parent[] to store the path '''\n",
        " \n",
        "    def BFS(self, s, t, parent):\n",
        " \n",
        "        visited = [False]*(self.ROW)\n",
        " \n",
        "        queue = []\n",
        " \n",
        "        queue.append(s)\n",
        "        visited[s] = True\n",
        " \n",
        "        while queue:\n",
        " \n",
        "            u = queue.pop(0)\n",
        " \n",
        "            for ind, val in enumerate(self.graph[u]):\n",
        "                if visited[ind] == False and val > 0:\n",
        "\n",
        "                    queue.append(ind)\n",
        "                    visited[ind] = True\n",
        "                    parent[ind] = u\n",
        "                    if ind == t:\n",
        "                        return True\n",
        " \n",
        "        return False\n",
        "             \n",
        "    \n",
        "    def FordFulkerson(self, source, sink):\n",
        "        parent = [-1]*(self.ROW)\n",
        " \n",
        "        max_flow = 0\n",
        " \n",
        "        while self.BFS(source, sink, parent) :\n",
        " \n",
        "            # Find minimum residual capacity of the edges along the\n",
        "            # path filled by BFS. Or we can say find the maximum flow\n",
        "            # through the path found.\n",
        "            path_flow = float(\"Inf\")\n",
        "            s = sink\n",
        "            while(s !=  source):\n",
        "                path_flow = min (path_flow, self.graph[parent[s]][s])\n",
        "                s = parent[s]\n",
        " \n",
        "            max_flow +=  path_flow\n",
        " \n",
        "            v = sink\n",
        "            while(v !=  source):\n",
        "                u = parent[v]\n",
        "                self.graph[u][v] -= path_flow\n",
        "                self.graph[v][u] += path_flow\n",
        "                v = parent[v]\n",
        " \n",
        "        return max_flow\n",
        " \n",
        "  \n",
        "# Create a graph given in the above diagram\n",
        " \n",
        "graph = adj_matrix[]\n",
        " \n",
        "g = Graph(graph)\n",
        " \n",
        "source = 0; sink = 5\n",
        "\n",
        "\n",
        "print (\"The maximum possible flow is %d \" % g.FordFulkerson(source, sink))\n",
        " \n",
        "# This code is contributed by Neelam Yadav"
      ],
      "execution_count": 7,
      "outputs": [
        {
          "output_type": "stream",
          "name": "stdout",
          "text": [
            "The maximum possible flow is 23 \n"
          ]
        }
      ]
    },
    {
      "cell_type": "code",
      "metadata": {
        "id": "V-EVfVz_hXiN"
      },
      "source": [
        "import numpy as np"
      ],
      "execution_count": 8,
      "outputs": []
    },
    {
      "cell_type": "code",
      "metadata": {
        "id": "k31N66zTiTxX"
      },
      "source": [
        "def get_weights(adj_matrix):\n",
        "  for i in range(len(adj_matrix)):\n",
        "    for j in range(len(adj_matrix)):\n",
        "      if i == j:\n",
        "        adj_matrix[i][j] = 0\n",
        "        continue\n",
        "      elif adj_matrix[i][j] == 0:\n",
        "        adj_matrix[i][j] = np.iinfo(np.int32).max  \n",
        "        adj_matrix[j][i] = np.iinfo(np.int32).max  \n",
        "        continue\n",
        "      else:\n",
        "        distance = np.random.randint(1, 1000)\n",
        "        adj_matrix[i][j] = distance\n",
        "        adj_matrix[j][i] = distance\n",
        "  return adj_matrix"
      ],
      "execution_count": 18,
      "outputs": []
    },
    {
      "cell_type": "code",
      "metadata": {
        "id": "YxLDHzKQisuO"
      },
      "source": [
        ""
      ],
      "execution_count": 25,
      "outputs": []
    },
    {
      "cell_type": "code",
      "metadata": {
        "id": "yK61vCUxjF85"
      },
      "source": [
        "import time"
      ],
      "execution_count": 26,
      "outputs": []
    },
    {
      "cell_type": "code",
      "metadata": {
        "colab": {
          "base_uri": "https://localhost:8080/"
        },
        "id": "eYiPFG15hJij",
        "outputId": "62f51985-157d-42dd-d2c3-bbb82164a327"
      },
      "source": [
        "ford_falk_time_track = []\n",
        "for x in range(10, 100):\n",
        "  track = []\n",
        "  for _ in range(5):\n",
        "    g = ig.Graph.Erdos_Renyi(n=x, m=x//2)\n",
        "    layout = g.layout_drl()\n",
        "    #ig.plot(g, \"graph.png\")\n",
        "    adj_matrix = np.array(g.get_adjacency().data)\n",
        "    adj_matrix = get_weights(adj_matrix)\n",
        "    g = Graph(adj_matrix)\n",
        "    source = np.random.randint(0, x); sink = np.random.randint(0, x)\n",
        "    start = time.time()\n",
        "    g.FordFulkerson(source, sink)\n",
        "    end = time.time()\n",
        "    track.append(end - start)\n",
        "  ford_falk_time_track.append(np.mean(track))\n",
        "  print(x)"
      ],
      "execution_count": 87,
      "outputs": [
        {
          "output_type": "stream",
          "name": "stdout",
          "text": [
            "10\n",
            "11\n",
            "12\n",
            "13\n",
            "14\n",
            "15\n",
            "16\n",
            "17\n",
            "18\n",
            "19\n",
            "20\n",
            "21\n",
            "22\n",
            "23\n",
            "24\n",
            "25\n",
            "26\n",
            "27\n",
            "28\n",
            "29\n",
            "30\n",
            "31\n",
            "32\n",
            "33\n",
            "34\n",
            "35\n",
            "36\n",
            "37\n",
            "38\n",
            "39\n",
            "40\n",
            "41\n",
            "42\n",
            "43\n",
            "44\n",
            "45\n",
            "46\n",
            "47\n",
            "48\n",
            "49\n",
            "50\n",
            "51\n",
            "52\n",
            "53\n",
            "54\n",
            "55\n",
            "56\n",
            "57\n",
            "58\n",
            "59\n",
            "60\n",
            "61\n",
            "62\n",
            "63\n",
            "64\n",
            "65\n",
            "66\n",
            "67\n",
            "68\n",
            "69\n",
            "70\n",
            "71\n",
            "72\n",
            "73\n",
            "74\n",
            "75\n",
            "76\n",
            "77\n",
            "78\n",
            "79\n",
            "80\n",
            "81\n",
            "82\n",
            "83\n",
            "84\n",
            "85\n",
            "86\n",
            "87\n",
            "88\n",
            "89\n",
            "90\n",
            "91\n",
            "92\n",
            "93\n",
            "94\n",
            "95\n",
            "96\n",
            "97\n",
            "98\n",
            "99\n"
          ]
        }
      ]
    },
    {
      "cell_type": "code",
      "metadata": {
        "id": "lsO9cQ7Nk951"
      },
      "source": [
        "g = ig.Graph.Erdos_Renyi(n=x, m=x//2)\n",
        "layout = g.layout_drl()\n",
        "#ig.plot(g, \"graph.png\")\n",
        "adj_matrix = np.array(g.get_adjacency().data)\n",
        "#adj_matrix = get_weights(adj_matrix)"
      ],
      "execution_count": 43,
      "outputs": []
    },
    {
      "cell_type": "code",
      "metadata": {
        "id": "hvoBnwPwlVRk"
      },
      "source": [
        "adj_matrix = np.array(g.get_adjacency().data)"
      ],
      "execution_count": 48,
      "outputs": []
    },
    {
      "cell_type": "code",
      "metadata": {
        "id": "2jeF3zmnldSR"
      },
      "source": [
        "adj_matrix = adj_matrix.tolist()"
      ],
      "execution_count": null,
      "outputs": []
    },
    {
      "cell_type": "code",
      "metadata": {
        "id": "eXPWAVz_lipd"
      },
      "source": [
        "g = ig.Graph.Erdos_Renyi(n=100, m=500)\n",
        "layout = g.layout_drl()"
      ],
      "execution_count": 50,
      "outputs": []
    },
    {
      "cell_type": "code",
      "metadata": {
        "colab": {
          "base_uri": "https://localhost:8080/",
          "height": 282
        },
        "id": "hdR9pSxXkjcT",
        "outputId": "8735c49a-8360-49c5-dabe-878f205c510d"
      },
      "source": [
        "plt.plot(list(range(90)), time_track)"
      ],
      "execution_count": 56,
      "outputs": [
        {
          "output_type": "execute_result",
          "data": {
            "text/plain": [
              "[<matplotlib.lines.Line2D at 0x7fb59c6f4990>]"
            ]
          },
          "metadata": {},
          "execution_count": 56
        },
        {
          "output_type": "display_data",
          "data": {
            "image/png": "[encoded data removed]",
            "text/plain": [
              "<Figure size 432x288 with 1 Axes>"
            ]
          },
          "metadata": {
            "needs_background": "light"
          }
        }
      ]
    },
    {
      "cell_type": "code",
      "metadata": {
        "id": "wFASVKwiokts"
      },
      "source": [
        ""
      ],
      "execution_count": null,
      "outputs": []
    },
    {
      "cell_type": "code",
      "metadata": {
        "id": "lE_NhNJRozq4"
      },
      "source": [
        "import networkx as nx"
      ],
      "execution_count": 58,
      "outputs": []
    },
    {
      "cell_type": "code",
      "metadata": {
        "id": "loymbonNonzP"
      },
      "source": [
        ""
      ],
      "execution_count": 66,
      "outputs": []
    },
    {
      "cell_type": "code",
      "metadata": {
        "id": "YLxClKGIo4Mw"
      },
      "source": [
        ""
      ],
      "execution_count": 67,
      "outputs": []
    },
    {
      "cell_type": "code",
      "metadata": {
        "id": "tcxPVipso5r6"
      },
      "source": [
        "matrix = list(matrix)"
      ],
      "execution_count": 68,
      "outputs": []
    },
    {
      "cell_type": "code",
      "metadata": {
        "id": "Zomv-zPJo8fJ"
      },
      "source": [
        "matrix"
      ],
      "execution_count": null,
      "outputs": []
    },
    {
      "cell_type": "code",
      "metadata": {
        "id": "pnxCAg1up8-p"
      },
      "source": [
        "kraskal_tracks = []"
      ],
      "execution_count": 76,
      "outputs": []
    },
    {
      "cell_type": "code",
      "metadata": {
        "colab": {
          "base_uri": "https://localhost:8080/",
          "height": 346
        },
        "id": "4_Khvu9IpITH",
        "outputId": "31ab9c11-b44c-4068-8ccb-b2ed050bd1a4"
      },
      "source": [
        "def parse_edge_data(s):\n",
        "    for line in matrix:\n",
        "        start, end, weight = line\n",
        "        yield Edge(int(weight), start, end)\n",
        "\n",
        "\n",
        "def main():\n",
        "    for x in range(30, 100):\n",
        "      track = []\n",
        "      for _ in range(5):\n",
        "\n",
        "        g = ig.Graph.Erdos_Renyi(n=x, m=x)\n",
        "        layout = g.layout_drl()\n",
        "\n",
        "\n",
        "        adj_matrix = np.array(g.get_adjacency().data)\n",
        "        adj_matrix = get_weights(adj_matrix)\n",
        "        G = nx.from_numpy_matrix(adj_matrix)\n",
        "        matrix = set()\n",
        "        adj_matrix = dict(G.adjacency())\n",
        "\n",
        "        for v in adj_matrix:\n",
        "          inner_matrix = adj_matrix[v]\n",
        "          for w in inner_matrix:\n",
        "            if (v, w, inner_matrix[w]['weight']) not in matrix and (v, w, inner_matrix[w]['weight']) not in matrix:\n",
        "              matrix.add((v, w, inner_matrix[w]['weight']))   \n",
        "    \n",
        "        list(kruskal(list(G.nodes), parse_edge_data(matrix)))\n",
        "        end = time.time()\n",
        "      track.append(end - start)\n",
        "    time_track.append(np.mean(track))\n",
        "\n",
        "main()"
      ],
      "execution_count": 94,
      "outputs": [
        {
          "output_type": "error",
          "ename": "KeyError",
          "evalue": "ignored",
          "traceback": [
            "\u001b[0;31m---------------------------------------------------------------------------\u001b[0m",
            "\u001b[0;31mKeyError\u001b[0m                                  Traceback (most recent call last)",
            "\u001b[0;32m<ipython-input-94-9eb7924f3ea3>\u001b[0m in \u001b[0;36m<module>\u001b[0;34m()\u001b[0m\n\u001b[1;32m     31\u001b[0m     \u001b[0mtime_track\u001b[0m\u001b[0;34m.\u001b[0m\u001b[0mappend\u001b[0m\u001b[0;34m(\u001b[0m\u001b[0mnp\u001b[0m\u001b[0;34m.\u001b[0m\u001b[0mmean\u001b[0m\u001b[0;34m(\u001b[0m\u001b[0mtrack\u001b[0m\u001b[0;34m)\u001b[0m\u001b[0;34m)\u001b[0m\u001b[0;34m\u001b[0m\u001b[0;34m\u001b[0m\u001b[0m\n\u001b[1;32m     32\u001b[0m \u001b[0;34m\u001b[0m\u001b[0m\n\u001b[0;32m---> 33\u001b[0;31m \u001b[0mmain\u001b[0m\u001b[0;34m(\u001b[0m\u001b[0;34m)\u001b[0m\u001b[0;34m\u001b[0m\u001b[0;34m\u001b[0m\u001b[0m\n\u001b[0m",
            "\u001b[0;32m<ipython-input-94-9eb7924f3ea3>\u001b[0m in \u001b[0;36mmain\u001b[0;34m()\u001b[0m\n\u001b[1;32m     26\u001b[0m               \u001b[0mmatrix\u001b[0m\u001b[0;34m.\u001b[0m\u001b[0madd\u001b[0m\u001b[0;34m(\u001b[0m\u001b[0;34m(\u001b[0m\u001b[0mv\u001b[0m\u001b[0;34m,\u001b[0m \u001b[0mw\u001b[0m\u001b[0;34m,\u001b[0m \u001b[0minner_matrix\u001b[0m\u001b[0;34m[\u001b[0m\u001b[0mw\u001b[0m\u001b[0;34m]\u001b[0m\u001b[0;34m[\u001b[0m\u001b[0;34m'weight'\u001b[0m\u001b[0;34m]\u001b[0m\u001b[0;34m)\u001b[0m\u001b[0;34m)\u001b[0m\u001b[0;34m\u001b[0m\u001b[0;34m\u001b[0m\u001b[0m\n\u001b[1;32m     27\u001b[0m \u001b[0;34m\u001b[0m\u001b[0m\n\u001b[0;32m---> 28\u001b[0;31m         \u001b[0mlist\u001b[0m\u001b[0;34m(\u001b[0m\u001b[0mkruskal\u001b[0m\u001b[0;34m(\u001b[0m\u001b[0mlist\u001b[0m\u001b[0;34m(\u001b[0m\u001b[0mG\u001b[0m\u001b[0;34m.\u001b[0m\u001b[0mnodes\u001b[0m\u001b[0;34m)\u001b[0m\u001b[0;34m,\u001b[0m \u001b[0mparse_edge_data\u001b[0m\u001b[0;34m(\u001b[0m\u001b[0mmatrix\u001b[0m\u001b[0;34m)\u001b[0m\u001b[0;34m)\u001b[0m\u001b[0;34m)\u001b[0m\u001b[0;34m\u001b[0m\u001b[0;34m\u001b[0m\u001b[0m\n\u001b[0m\u001b[1;32m     29\u001b[0m         \u001b[0mend\u001b[0m \u001b[0;34m=\u001b[0m \u001b[0mtime\u001b[0m\u001b[0;34m.\u001b[0m\u001b[0mtime\u001b[0m\u001b[0;34m(\u001b[0m\u001b[0;34m)\u001b[0m\u001b[0;34m\u001b[0m\u001b[0;34m\u001b[0m\u001b[0m\n\u001b[1;32m     30\u001b[0m       \u001b[0mtrack\u001b[0m\u001b[0;34m.\u001b[0m\u001b[0mappend\u001b[0m\u001b[0;34m(\u001b[0m\u001b[0mend\u001b[0m \u001b[0;34m-\u001b[0m \u001b[0mstart\u001b[0m\u001b[0;34m)\u001b[0m\u001b[0;34m\u001b[0m\u001b[0;34m\u001b[0m\u001b[0m\n",
            "\u001b[0;32m<ipython-input-73-9bda8915e9f9>\u001b[0m in \u001b[0;36mkruskal\u001b[0;34m(nodes, edges)\u001b[0m\n\u001b[1;32m     35\u001b[0m     \u001b[0;32mfor\u001b[0m \u001b[0medge\u001b[0m \u001b[0;32min\u001b[0m \u001b[0msorted\u001b[0m\u001b[0;34m(\u001b[0m\u001b[0medges\u001b[0m\u001b[0;34m)\u001b[0m\u001b[0;34m:\u001b[0m\u001b[0;34m\u001b[0m\u001b[0;34m\u001b[0m\u001b[0m\n\u001b[1;32m     36\u001b[0m         \u001b[0mx\u001b[0m \u001b[0;34m=\u001b[0m \u001b[0mforest\u001b[0m\u001b[0;34m[\u001b[0m\u001b[0medge\u001b[0m\u001b[0;34m.\u001b[0m\u001b[0mstart\u001b[0m\u001b[0;34m]\u001b[0m\u001b[0;34m.\u001b[0m\u001b[0mfind_root\u001b[0m\u001b[0;34m(\u001b[0m\u001b[0;34m)\u001b[0m\u001b[0;34m\u001b[0m\u001b[0;34m\u001b[0m\u001b[0m\n\u001b[0;32m---> 37\u001b[0;31m         \u001b[0my\u001b[0m \u001b[0;34m=\u001b[0m \u001b[0mforest\u001b[0m\u001b[0;34m[\u001b[0m\u001b[0medge\u001b[0m\u001b[0;34m.\u001b[0m\u001b[0mend\u001b[0m\u001b[0;34m]\u001b[0m\u001b[0;34m.\u001b[0m\u001b[0mfind_root\u001b[0m\u001b[0;34m(\u001b[0m\u001b[0;34m)\u001b[0m\u001b[0;34m\u001b[0m\u001b[0;34m\u001b[0m\u001b[0m\n\u001b[0m\u001b[1;32m     38\u001b[0m         \u001b[0;32mif\u001b[0m \u001b[0mx\u001b[0m \u001b[0;32mis\u001b[0m \u001b[0;32mnot\u001b[0m \u001b[0my\u001b[0m\u001b[0;34m:\u001b[0m\u001b[0;34m\u001b[0m\u001b[0;34m\u001b[0m\u001b[0m\n\u001b[1;32m     39\u001b[0m             \u001b[0;32myield\u001b[0m \u001b[0medge\u001b[0m\u001b[0;34m\u001b[0m\u001b[0;34m\u001b[0m\u001b[0m\n",
            "\u001b[0;31mKeyError\u001b[0m: 51"
          ]
        }
      ]
    },
    {
      "cell_type": "code",
      "metadata": {
        "id": "CiD8Gsxhrav0"
      },
      "source": [
        "kraskal_time_track = []"
      ],
      "execution_count": null,
      "outputs": []
    },
    {
      "cell_type": "code",
      "metadata": {
        "id": "N-Itanq8ruHW"
      },
      "source": [
        "time_track = []"
      ],
      "execution_count": 103,
      "outputs": []
    },
    {
      "cell_type": "code",
      "metadata": {
        "id": "9QQAVhV9rPWi"
      },
      "source": [
        "for x in range(30, 100):\n",
        "  track = []\n",
        "  for _ in range(5):\n",
        "\n",
        "    g = ig.Graph.Erdos_Renyi(n=x, m=x)\n",
        "    layout = g.layout_drl()\n",
        "\n",
        "    adj_matrix = np.array(g.get_adjacency().data)\n",
        "    adj_matrix = get_weights(adj_matrix)\n",
        "    G = nx.from_numpy_matrix(adj_matrix)\n",
        "    matrix = set()\n",
        "    adj_matrix = dict(G.adjacency())\n",
        "\n",
        "    for v in adj_matrix:\n",
        "      inner_matrix = adj_matrix[v]\n",
        "      for w in inner_matrix:\n",
        "        if (v, w, inner_matrix[w]['weight']) not in matrix and (v, w, inner_matrix[w]['weight']) not in matrix:\n",
        "          matrix.add((v, w, inner_matrix[w]['weight']))   \n",
        "    start = time.time()\n",
        "    list(kruskal(list(G.nodes), parse_edge_data(matrix)))\n",
        "    end = time.time()\n",
        "    track.append(end - start)\n",
        "  time_track.append(np.mean(track))"
      ],
      "execution_count": 105,
      "outputs": []
    },
    {
      "cell_type": "code",
      "metadata": {
        "id": "R5qDd5gmkRQ_"
      },
      "source": [
        "from matplotlib import pyplot as plt\n",
        "import numpy as np"
      ],
      "execution_count": 38,
      "outputs": []
    },
    {
      "cell_type": "code",
      "metadata": {
        "colab": {
          "base_uri": "https://localhost:8080/"
        },
        "id": "zHdPer4etMfS",
        "outputId": "b3737762-df02-4326-ae72-bd0dff2914de"
      },
      "source": [
        "len(time_track)"
      ],
      "execution_count": 107,
      "outputs": [
        {
          "output_type": "execute_result",
          "data": {
            "text/plain": [
              "109"
            ]
          },
          "metadata": {},
          "execution_count": 107
        }
      ]
    },
    {
      "cell_type": "code",
      "metadata": {
        "id": "xAd38yTwv3FY"
      },
      "source": [
        "time_track_test = time_track[39:]"
      ],
      "execution_count": 111,
      "outputs": []
    },
    {
      "cell_type": "code",
      "metadata": {
        "colab": {
          "base_uri": "https://localhost:8080/"
        },
        "id": "3oMfLCQNtNiI",
        "outputId": "48a8142b-9e8d-465b-f8dd-fdc7682feb26"
      },
      "source": [
        "len(ford_falk_time_track)"
      ],
      "execution_count": 101,
      "outputs": [
        {
          "output_type": "execute_result",
          "data": {
            "text/plain": [
              "90"
            ]
          },
          "metadata": {},
          "execution_count": 101
        }
      ]
    },
    {
      "cell_type": "code",
      "metadata": {
        "colab": {
          "base_uri": "https://localhost:8080/"
        },
        "id": "FGvn2XvKv-gq",
        "outputId": "2e03b8aa-3294-4546-f168-b61f0f0ad06d"
      },
      "source": [
        "len(time_track_test)"
      ],
      "execution_count": 112,
      "outputs": [
        {
          "output_type": "execute_result",
          "data": {
            "text/plain": [
              "70"
            ]
          },
          "metadata": {},
          "execution_count": 112
        }
      ]
    },
    {
      "cell_type": "code",
      "metadata": {
        "colab": {
          "base_uri": "https://localhost:8080/",
          "height": 389
        },
        "id": "E3lurQfys5IX",
        "outputId": "e08b68cc-79ad-4813-a019-e626c8be90f4"
      },
      "source": [
        "algorithm = 'Kraskal algorithm'\n",
        "time_ellapsed = time_track_test\n",
        "fig, ax = plt.subplots(figsize=(10, 5))\n",
        "theoretical_complexity = 'Estimated time complexity'\n",
        "x_values = np.array(range(30, 100))\n",
        "n, m, b = np.polyfit(x_values, time_ellapsed, 2)\n",
        "\n",
        "ax.plot(x_values, time_ellapsed, '-', label = 'Experiment time')\n",
        "ax.set_title(algorithm)\n",
        "ax.set_xlabel('Nodes count')\n",
        "ax.set_ylabel('Time ellapsed')\n",
        "ax.plot(x_values, np.array(x_values)** 2* n + m * np.array(x_values) + b, '-r', label = f'{theoretical_complexity}')\n",
        "fig.legend()"
      ],
      "execution_count": 113,
      "outputs": [
        {
          "output_type": "execute_result",
          "data": {
            "text/plain": [
              "<matplotlib.legend.Legend at 0x7fb59bb26b10>"
            ]
          },
          "metadata": {},
          "execution_count": 113
        },
        {
          "output_type": "display_data",
          "data": {
            "image/png": "[encoded data removed]",
            "text/plain": [
              "<Figure size 720x360 with 1 Axes>"
            ]
          },
          "metadata": {
            "needs_background": "light"
          }
        }
      ]
    },
    {
      "cell_type": "code",
      "metadata": {
        "colab": {
          "base_uri": "https://localhost:8080/",
          "height": 389
        },
        "id": "eLSqvGvxsArJ",
        "outputId": "891ea471-4f0f-4fad-ba08-0b932cb0eb52"
      },
      "source": [
        "time_ellapsed = ford_falk_time_track\n",
        "algorithm = 'Ford Fulkerson algorithm'\n",
        "fig, ax = plt.subplots(figsize=(10, 5))\n",
        "theoretical_complexity = 'Estimated time complexity'\n",
        "x_values = np.array(range(10, 100))\n",
        "n, m, b = np.polyfit(x_values, time_ellapsed, 2)\n",
        "\n",
        "ax.plot(x_values, time_ellapsed, '-', label = 'Experiment time')\n",
        "ax.set_title(algorithm)\n",
        "ax.set_xlabel('Nodes count')\n",
        "ax.set_ylabel('Time ellapsed')\n",
        "ax.plot(x_values, np.array(x_values)** 2* n + m * np.array(x_values) + b, '-r', label = f'{theoretical_complexity}')\n",
        "fig.legend()"
      ],
      "execution_count": 93,
      "outputs": [
        {
          "output_type": "execute_result",
          "data": {
            "text/plain": [
              "<matplotlib.legend.Legend at 0x7fb59be05ad0>"
            ]
          },
          "metadata": {},
          "execution_count": 93
        },
        {
          "output_type": "display_data",
          "data": {
            "image/png": "[encoded data removed]",
            "text/plain": [
              "<Figure size 720x360 with 1 Axes>"
            ]
          },
          "metadata": {
            "needs_background": "light"
          }
        }
      ]
    },
    {
      "cell_type": "code",
      "metadata": {
        "id": "5_lDMjBvtRMn"
      },
      "source": [
        ""
      ],
      "execution_count": null,
      "outputs": []
    }
  ]
}